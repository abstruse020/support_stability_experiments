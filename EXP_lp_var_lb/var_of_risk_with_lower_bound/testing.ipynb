{
 "cells": [
  {
   "cell_type": "code",
   "execution_count": 1,
   "metadata": {},
   "outputs": [],
   "source": [
    "import torch\n",
    "from torch.utils.data import Dataset, DataLoader\n",
    "from torchvision import datasets\n",
    "from torchvision.transforms import ToTensor\n",
    "import matplotlib.pyplot as plt\n",
    "import numpy as np\n",
    "\n",
    "from dataset import get_dataset, pick_train_set, show_some_data\n",
    "from utils import get_config\n",
    "from model import get_model"
   ]
  },
  {
   "cell_type": "code",
   "execution_count": 2,
   "metadata": {},
   "outputs": [
    {
     "name": "stdout",
     "output_type": "stream",
     "text": [
      "train: 60000, test: 10000\n"
     ]
    }
   ],
   "source": [
    "train_data, test_data = get_dataset(dataset_name='mnist', data_config=None, batch_size=32)"
   ]
  },
  {
   "cell_type": "code",
   "execution_count": 3,
   "metadata": {},
   "outputs": [
    {
     "data": {
      "text/plain": [
       "Dataset MNIST\n",
       "    Number of datapoints: 60000\n",
       "    Root location: data/mnist\n",
       "    Split: Train\n",
       "    StandardTransform\n",
       "Transform: ToTensor()"
      ]
     },
     "execution_count": 3,
     "metadata": {},
     "output_type": "execute_result"
    }
   ],
   "source": [
    "train_data"
   ]
  },
  {
   "cell_type": "markdown",
   "metadata": {},
   "source": [
    "## Filtering MNIST classes"
   ]
  },
  {
   "cell_type": "code",
   "execution_count": 3,
   "metadata": {},
   "outputs": [],
   "source": [
    "training_data = datasets.MNIST(\n",
    "    root='data/mnist',\n",
    "    train=True,\n",
    "    download=True,\n",
    "    transform=ToTensor()\n",
    ")\n",
    "test_data = datasets.MNIST(\n",
    "    root='data/mnist',\n",
    "    train=False,\n",
    "    download=True,\n",
    "    transform=ToTensor()\n",
    ")"
   ]
  },
  {
   "cell_type": "code",
   "execution_count": 18,
   "metadata": {},
   "outputs": [
    {
     "data": {
      "text/plain": [
       "Text(0.5, 1.0, '5')"
      ]
     },
     "execution_count": 18,
     "metadata": {},
     "output_type": "execute_result"
    },
    {
     "data": {
      "image/png": "[encoded data removed]",
      "text/plain": [
       "<Figure size 432x288 with 1 Axes>"
      ]
     },
     "metadata": {
      "needs_background": "light"
     },
     "output_type": "display_data"
    }
   ],
   "source": [
    "# plot data points\n",
    "img, label = training_data[0]\n",
    "img = img.squeeze()\n",
    "\n",
    "plt.imshow(img, cmap='gray')\n",
    "plt.title(label)"
   ]
  },
  {
   "cell_type": "code",
   "execution_count": 22,
   "metadata": {},
   "outputs": [],
   "source": [
    "def filter_classes(data, num_classes = 2):\n",
    "    filtered_data = []\n",
    "    for img, label in data:\n",
    "        for cls in range(num_classes):\n",
    "            if cls == label:\n",
    "                img = img.squeeze()\n",
    "                filtered_data.append([img, label])\n",
    "    return filtered_data\n",
    "        "
   ]
  },
  {
   "cell_type": "code",
   "execution_count": 25,
   "metadata": {},
   "outputs": [
    {
     "data": {
      "text/plain": [
       "12665"
      ]
     },
     "execution_count": 25,
     "metadata": {},
     "output_type": "execute_result"
    }
   ],
   "source": [
    "filtered_data = filter_classes(training_data, num_classes=2)\n",
    "\n",
    "len(filtered_data)"
   ]
  },
  {
   "cell_type": "code",
   "execution_count": 27,
   "metadata": {},
   "outputs": [],
   "source": [
    "f_dataloader = DataLoader(filtered_data, batch_size=32, shuffle=False)"
   ]
  },
  {
   "cell_type": "code",
   "execution_count": 35,
   "metadata": {},
   "outputs": [
    {
     "name": "stdout",
     "output_type": "stream",
     "text": [
      "tensor([[[0., 0., 0.,  ..., 0., 0., 0.],\n",
      "         [0., 0., 0.,  ..., 0., 0., 0.],\n",
      "         [0., 0., 0.,  ..., 0., 0., 0.],\n",
      "         ...,\n",
      "         [0., 0., 0.,  ..., 0., 0., 0.],\n",
      "         [0., 0., 0.,  ..., 0., 0., 0.],\n",
      "         [0., 0., 0.,  ..., 0., 0., 0.]],\n",
      "\n",
      "        [[0., 0., 0.,  ..., 0., 0., 0.],\n",
      "         [0., 0., 0.,  ..., 0., 0., 0.],\n",
      "         [0., 0., 0.,  ..., 0., 0., 0.],\n",
      "         ...,\n",
      "         [0., 0., 0.,  ..., 0., 0., 0.],\n",
      "         [0., 0., 0.,  ..., 0., 0., 0.],\n",
      "         [0., 0., 0.,  ..., 0., 0., 0.]],\n",
      "\n",
      "        [[0., 0., 0.,  ..., 0., 0., 0.],\n",
      "         [0., 0., 0.,  ..., 0., 0., 0.],\n",
      "         [0., 0., 0.,  ..., 0., 0., 0.],\n",
      "         ...,\n",
      "         [0., 0., 0.,  ..., 0., 0., 0.],\n",
      "         [0., 0., 0.,  ..., 0., 0., 0.],\n",
      "         [0., 0., 0.,  ..., 0., 0., 0.]],\n",
      "\n",
      "        ...,\n",
      "\n",
      "        [[0., 0., 0.,  ..., 0., 0., 0.],\n",
      "         [0., 0., 0.,  ..., 0., 0., 0.],\n",
      "         [0., 0., 0.,  ..., 0., 0., 0.],\n",
      "         ...,\n",
      "         [0., 0., 0.,  ..., 0., 0., 0.],\n",
      "         [0., 0., 0.,  ..., 0., 0., 0.],\n",
      "         [0., 0., 0.,  ..., 0., 0., 0.]],\n",
      "\n",
      "        [[0., 0., 0.,  ..., 0., 0., 0.],\n",
      "         [0., 0., 0.,  ..., 0., 0., 0.],\n",
      "         [0., 0., 0.,  ..., 0., 0., 0.],\n",
      "         ...,\n",
      "         [0., 0., 0.,  ..., 0., 0., 0.],\n",
      "         [0., 0., 0.,  ..., 0., 0., 0.],\n",
      "         [0., 0., 0.,  ..., 0., 0., 0.]],\n",
      "\n",
      "        [[0., 0., 0.,  ..., 0., 0., 0.],\n",
      "         [0., 0., 0.,  ..., 0., 0., 0.],\n",
      "         [0., 0., 0.,  ..., 0., 0., 0.],\n",
      "         ...,\n",
      "         [0., 0., 0.,  ..., 0., 0., 0.],\n",
      "         [0., 0., 0.,  ..., 0., 0., 0.],\n",
      "         [0., 0., 0.,  ..., 0., 0., 0.]]])\n",
      "this is 1 tensor([0, 1, 1, 1, 1, 0, 1, 1, 0, 0, 1, 0, 0, 1, 0, 1, 0, 0, 1, 1, 0, 1, 1, 0,\n",
      "        0, 0, 1, 1, 1, 1, 0, 1]) 32\n"
     ]
    }
   ],
   "source": [
    "for point in f_dataloader:\n",
    "    print(point[0])\n",
    "    print('this is 1', point[1], len(point[1]))\n",
    "    break"
   ]
  },
  {
   "cell_type": "markdown",
   "metadata": {},
   "source": [
    "## Picking S and picking testing set"
   ]
  },
  {
   "cell_type": "code",
   "execution_count": 3,
   "metadata": {},
   "outputs": [],
   "source": [
    "config = get_config()\n",
    "data_dist = get_dataset(config.data)"
   ]
  },
  {
   "cell_type": "code",
   "execution_count": 44,
   "metadata": {},
   "outputs": [],
   "source": [
    "def pick_train_set(data_dist, train_size, random_seed = 1234, replace=True):\n",
    "    if train_size > len(data_dist):\n",
    "        raise Exception('Train size too large')\n",
    "    rnp = np.random.RandomState(random_seed)\n",
    "    picked_index = rnp.choice(range(len(data_dist)), train_size, replace=replace)\n",
    "    train_set = list(map(lambda i: data_dist[i], picked_index))\n",
    "    return train_set"
   ]
  },
  {
   "cell_type": "markdown",
   "metadata": {},
   "source": [
    "### Plotting and verifying random labels"
   ]
  },
  {
   "cell_type": "code",
   "execution_count": 4,
   "metadata": {},
   "outputs": [
    {
     "data": {
      "image/png": "[encoded data removed]",
      "text/plain": [
       "<Figure size 720x720 with 16 Axes>"
      ]
     },
     "metadata": {},
     "output_type": "display_data"
    }
   ],
   "source": [
    "# train_set = pick_train_set(data_dist=data_dist, train_size=5, random_seed=2)\n",
    "len(data_dist)\n",
    "show_some_data(data_dist)\n"
   ]
  },
  {
   "cell_type": "code",
   "execution_count": 36,
   "metadata": {},
   "outputs": [
    {
     "data": {
      "text/plain": [
       "0"
      ]
     },
     "execution_count": 36,
     "metadata": {},
     "output_type": "execute_result"
    }
   ],
   "source": [
    "np.random.randint(0,2)"
   ]
  },
  {
   "cell_type": "code",
   "execution_count": null,
   "metadata": {},
   "outputs": [],
   "source": []
  },
  {
   "cell_type": "code",
   "execution_count": null,
   "metadata": {},
   "outputs": [],
   "source": []
  },
  {
   "cell_type": "code",
   "execution_count": null,
   "metadata": {},
   "outputs": [],
   "source": []
  },
  {
   "attachments": {},
   "cell_type": "markdown",
   "metadata": {},
   "source": [
    "## Testing Random Model initialization "
   ]
  },
  {
   "cell_type": "code",
   "execution_count": 13,
   "metadata": {},
   "outputs": [
    {
     "name": "stdout",
     "output_type": "stream",
     "text": [
      "Parameter containing:\n",
      "tensor([[-0.0151,  0.0012, -0.0184,  ..., -0.0048, -0.0245, -0.0170],\n",
      "        [-0.0242, -0.0240,  0.0290,  ..., -0.0203,  0.0125,  0.0298],\n",
      "        [-0.0116,  0.0354,  0.0308,  ...,  0.0003,  0.0115,  0.0015],\n",
      "        ...,\n",
      "        [ 0.0133, -0.0347, -0.0159,  ..., -0.0060, -0.0013,  0.0244],\n",
      "        [-0.0134,  0.0182,  0.0047,  ...,  0.0368,  0.0301,  0.0039],\n",
      "        [ 0.0125,  0.0130,  0.0251,  ..., -0.0198, -0.0346, -0.0114]],\n",
      "       requires_grad=True)\n",
      "************************************************************\n",
      "Parameter containing:\n",
      "tensor([[ 9.3357e-04, -3.2902e-02,  4.2483e-03,  ...,  1.2263e-02,\n",
      "         -1.9506e-02, -2.7708e-03],\n",
      "        [ 6.6479e-03, -3.5253e-02, -1.0963e-02,  ...,  1.8311e-02,\n",
      "         -2.1221e-02, -3.2583e-02],\n",
      "        [ 2.0426e-02, -5.7022e-03, -1.8767e-02,  ..., -2.5181e-02,\n",
      "         -1.1223e-02,  3.6773e-03],\n",
      "        ...,\n",
      "        [ 1.0303e-02, -4.5225e-05,  2.7461e-02,  ..., -2.7059e-02,\n",
      "          6.1557e-03, -1.6632e-02],\n",
      "        [ 3.2541e-02,  2.0505e-02,  1.9851e-02,  ..., -1.6297e-02,\n",
      "          2.4008e-02,  2.6977e-02],\n",
      "        [ 1.1901e-02, -2.2735e-02, -2.3404e-02,  ..., -7.4061e-03,\n",
      "          1.5295e-02, -3.2341e-02]], requires_grad=True)\n",
      "************************************************************\n",
      "tensor([4, 8, 1, 5, 5])\n",
      "tensor([6, 7, 1, 9, 0])\n"
     ]
    }
   ],
   "source": [
    "torch.manual_seed(123)\n",
    "\n",
    "model = get_model('fnn', 728, 2, [16])\n",
    "# model\n",
    "for param in model.parameters():\n",
    "    print(param)\n",
    "    print('**'*30)\n",
    "    break\n",
    "\n",
    "model = get_model('fnn', 728, 2, [16])\n",
    "# model\n",
    "for param in model.parameters():\n",
    "    print(param)\n",
    "    print('**'*30)\n",
    "    break\n",
    "\n",
    "print(torch.randint(10, (5,)))\n",
    "print(torch.randint(10, (5,)))"
   ]
  },
  {
   "cell_type": "code",
   "execution_count": null,
   "metadata": {},
   "outputs": [],
   "source": []
  },
  {
   "attachments": {},
   "cell_type": "markdown",
   "metadata": {},
   "source": [
    "## Checking format for string"
   ]
  },
  {
   "cell_type": "code",
   "execution_count": 29,
   "metadata": {},
   "outputs": [
    {
     "name": "stdout",
     "output_type": "stream",
     "text": [
      "this is 6.342                         , this is next\n",
      "start\n"
     ]
    }
   ],
   "source": [
    "var = 6.3423\n",
    "print(f'this is {var:<30.3f}, this is next')\n",
    "print('start')"
   ]
  },
  {
   "cell_type": "markdown",
   "metadata": {},
   "source": [
    "## Testing Custom Loss function"
   ]
  },
  {
   "cell_type": "code",
   "execution_count": 117,
   "metadata": {},
   "outputs": [],
   "source": [
    "class StepLoss(torch.nn.Module):\n",
    "    def __init__(self, device) -> None:\n",
    "        super(StepLoss, self).__init__()\n",
    "\n",
    "        self.weight = 6\n",
    "        self.device = device\n",
    "    \n",
    "    def forward(self, op, target):\n",
    "        B = op.shape[0]\n",
    "        op = op * self.weight\n",
    "        # for numerical stability\n",
    "        op = op - op.max(dim = 1, keepdim=True).values\n",
    "        # print('new op:', op)\n",
    "        op_exp = torch.exp(op)\n",
    "        op_exp_sum = torch.sum(op_exp, dim=1, keepdim=True)\n",
    "        sm_output = 1. - op_exp/op_exp_sum\n",
    "        # print('probs:', sm_output)\n",
    "        loss = torch.tensor([0.]).to(self.device)\n",
    "        for i in range(B):\n",
    "            temp_loss = sm_output[i][target[i].item()]\n",
    "            print(f'loss{i}: {temp_loss}')\n",
    "            loss += temp_loss\n",
    "        loss = loss/B\n",
    "        return loss\n",
    "    \n",
    "class ImpulseLoss(torch.nn.Module):\n",
    "    def __init__(self, weight = 15.0) -> None:\n",
    "        super(ImpulseLoss, self).__init__()\n",
    "\n",
    "        self.weight = weight\n",
    "    \n",
    "    def forward(self, op, label):\n",
    "        if len(op.shape) > 1 or len(label.shape)>1:\n",
    "            raise Exception('Output and label should be 1D tensor')\n",
    "        y = 1/(1 - torch.exp(-self.weight*op))\n",
    "        loss = label*y \n",
    "\n"
   ]
  },
  {
   "cell_type": "code",
   "execution_count": 118,
   "metadata": {},
   "outputs": [],
   "source": [
    "loss_fn = StepLoss('cpu')"
   ]
  },
  {
   "cell_type": "code",
   "execution_count": 6,
   "metadata": {},
   "outputs": [
    {
     "name": "stdout",
     "output_type": "stream",
     "text": [
      "loss: 0.5\n",
      "loss: 0.11920292675495148\n",
      "loss: 0.01798621006309986\n",
      "loss: 0.0024726230185478926\n",
      "loss: 0.00033535013790242374\n",
      "loss: 4.539786823443137e-05\n",
      "loss: 6.14417513133958e-06\n",
      "loss: 8.315280410897685e-07\n",
      "loss: 1.1253516163378663e-07\n",
      "loss: 1.5229979055675358e-08\n",
      "loss: 2.06115369216775e-09\n",
      "loss: 2.789468100949932e-10\n",
      "loss: 0.0\n",
      "loss: 0.0\n",
      "loss: 0.0\n",
      "loss: nan\n",
      "loss: nan\n",
      "loss: nan\n",
      "loss: nan\n",
      "loss: nan\n",
      "loss: nan\n",
      "loss: nan\n",
      "loss: nan\n",
      "loss: nan\n",
      "loss: nan\n",
      "loss: nan\n",
      "loss: nan\n",
      "loss: nan\n",
      "loss: nan\n",
      "loss: nan\n",
      "loss: nan\n",
      "loss: nan\n",
      "loss: nan\n",
      "loss: nan\n",
      "loss: nan\n",
      "loss: nan\n",
      "loss: nan\n",
      "loss: nan\n",
      "loss: nan\n",
      "loss: nan\n",
      "loss: nan\n",
      "loss: nan\n",
      "loss: nan\n",
      "loss: nan\n",
      "loss: nan\n",
      "loss: nan\n",
      "loss: nan\n",
      "loss: nan\n",
      "loss: nan\n",
      "loss: nan\n",
      "loss: nan\n",
      "loss: nan\n",
      "loss: nan\n",
      "loss: nan\n",
      "loss: nan\n",
      "loss: nan\n",
      "loss: nan\n",
      "loss: nan\n",
      "loss: nan\n",
      "loss: nan\n",
      "loss: nan\n",
      "loss: nan\n",
      "loss: nan\n",
      "loss: nan\n",
      "loss: nan\n",
      "loss: nan\n",
      "loss: nan\n",
      "loss: nan\n",
      "loss: nan\n",
      "loss: nan\n",
      "loss: nan\n",
      "loss: nan\n",
      "loss: nan\n",
      "loss: nan\n",
      "loss: nan\n",
      "loss: nan\n",
      "loss: nan\n",
      "loss: nan\n",
      "loss: nan\n",
      "loss: nan\n",
      "loss: nan\n",
      "loss: nan\n",
      "loss: nan\n",
      "loss: nan\n",
      "loss: nan\n",
      "loss: nan\n",
      "loss: nan\n",
      "loss: nan\n",
      "loss: nan\n",
      "loss: nan\n",
      "loss: nan\n",
      "loss: nan\n",
      "loss: nan\n",
      "loss: nan\n",
      "loss: nan\n",
      "loss: nan\n",
      "loss: nan\n",
      "loss: nan\n",
      "loss: nan\n",
      "loss: nan\n"
     ]
    }
   ],
   "source": [
    "for i in range(100):\n",
    "    loss_fn.weight = i*2\n",
    "    loss = loss_fn(torch.tensor([3,4]), torch.tensor(0))\n",
    "    print(f'loss: {loss}')"
   ]
  },
  {
   "cell_type": "code",
   "execution_count": 119,
   "metadata": {},
   "outputs": [
    {
     "name": "stdout",
     "output_type": "stream",
     "text": [
      "x: tensor([[0.7576, 0.2793],\n",
      "        [0.4031, 0.7347],\n",
      "        [0.0293, 0.7999],\n",
      "        [0.3971, 0.7544]])\n",
      "label: tensor([0, 0, 0, 0])\n",
      "loss0: 0.05366051197052002\n",
      "loss1: 0.8797104954719543\n",
      "loss2: 0.9902767539024353\n",
      "loss3: 0.8950511813163757\n"
     ]
    },
    {
     "data": {
      "text/plain": [
       "tensor([0.7047])"
      ]
     },
     "execution_count": 119,
     "metadata": {},
     "output_type": "execute_result"
    }
   ],
   "source": [
    "torch.manual_seed(1)\n",
    "loss_fn.weight = 6\n",
    "x = torch.tensor([3.,4.], requires_grad=True)\n",
    "x = torch.rand((4,2))\n",
    "label = torch.zeros(4, dtype=torch.long)\n",
    "print('x:',x)\n",
    "print('label:',label)\n",
    "# loss_fn.weight= 5\n",
    "loss = loss_fn(x, label)\n",
    "loss"
   ]
  },
  {
   "cell_type": "code",
   "execution_count": 29,
   "metadata": {},
   "outputs": [],
   "source": [
    "loss.backward()     "
   ]
  },
  {
   "cell_type": "code",
   "execution_count": 30,
   "metadata": {},
   "outputs": [
    {
     "data": {
      "text/plain": [
       "tensor([ 0.0332, -0.0332])"
      ]
     },
     "execution_count": 30,
     "metadata": {},
     "output_type": "execute_result"
    }
   ],
   "source": [
    "x.grad"
   ]
  },
  {
   "cell_type": "code",
   "execution_count": 51,
   "metadata": {},
   "outputs": [
    {
     "name": "stdout",
     "output_type": "stream",
     "text": [
      "tensor([[0.7576, 0.2793],\n",
      "        [0.4031, 0.7347],\n",
      "        [0.0293, 0.7999],\n",
      "        [0.3971, 0.7544]])\n",
      "tensor([0, 1, 1, 0])\n",
      "[0, 1, 1, 0]\n"
     ]
    },
    {
     "ename": "IndexError",
     "evalue": "too many indices for tensor of dimension 2",
     "output_type": "error",
     "traceback": [
      "\u001b[0;31m---------------------------------------------------------------------------\u001b[0m",
      "\u001b[0;31mIndexError\u001b[0m                                Traceback (most recent call last)",
      "\u001b[1;32m/home/harsh/stability_exp/EXP_lp_var_lower_bound/testing.ipynb Cell 32\u001b[0m in \u001b[0;36m<cell line: 8>\u001b[0;34m()\u001b[0m\n\u001b[1;32m      <a href='vscode-notebook-cell://ssh-remote%2Bobelix.cse.iitd.ac.in/home/harsh/stability_exp/EXP_lp_var_lower_bound/testing.ipynb#X43sdnNjb2RlLXJlbW90ZQ%3D%3D?line=4'>5</a>\u001b[0m \u001b[39mprint\u001b[39m(t2)\n\u001b[1;32m      <a href='vscode-notebook-cell://ssh-remote%2Bobelix.cse.iitd.ac.in/home/harsh/stability_exp/EXP_lp_var_lower_bound/testing.ipynb#X43sdnNjb2RlLXJlbW90ZQ%3D%3D?line=6'>7</a>\u001b[0m \u001b[39mprint\u001b[39m(t2\u001b[39m.\u001b[39mtolist())\n\u001b[0;32m----> <a href='vscode-notebook-cell://ssh-remote%2Bobelix.cse.iitd.ac.in/home/harsh/stability_exp/EXP_lp_var_lower_bound/testing.ipynb#X43sdnNjb2RlLXJlbW90ZQ%3D%3D?line=7'>8</a>\u001b[0m t1[(\u001b[39m0\u001b[39;49m,\u001b[39m1\u001b[39;49m), (\u001b[39m1\u001b[39;49m,\u001b[39m0\u001b[39;49m), (\u001b[39m2\u001b[39;49m,\u001b[39m0\u001b[39;49m)]\n",
      "\u001b[0;31mIndexError\u001b[0m: too many indices for tensor of dimension 2"
     ]
    }
   ],
   "source": [
    "torch.manual_seed(1)\n",
    "t1 = torch.rand((4,2))\n",
    "t2 = torch.tensor([0,1,1,0])\n",
    "print(t1)\n",
    "print(t2)\n",
    "\n",
    "print(t2.tolist())\n",
    "t1[(0,1), (1,0)]"
   ]
  },
  {
   "cell_type": "code",
   "execution_count": 86,
   "metadata": {},
   "outputs": [
    {
     "data": {
      "text/plain": [
       "tensor([[ 0.0000, -0.4783],\n",
       "        [-0.3316,  0.0000],\n",
       "        [-0.7706,  0.0000],\n",
       "        [-0.3572,  0.0000]])"
      ]
     },
     "execution_count": 86,
     "metadata": {},
     "output_type": "execute_result"
    }
   ],
   "source": [
    "t1 - t1.max(dim = 1).values.unsqueeze(dim = 1)"
   ]
  },
  {
   "cell_type": "code",
   "execution_count": null,
   "metadata": {},
   "outputs": [],
   "source": []
  },
  {
   "cell_type": "code",
   "execution_count": null,
   "metadata": {},
   "outputs": [],
   "source": []
  }
 ],
 "metadata": {
  "kernelspec": {
   "display_name": "base",
   "language": "python",
   "name": "python3"
  },
  "language_info": {
   "codemirror_mode": {
    "name": "ipython",
    "version": 3
   },
   "file_extension": ".py",
   "mimetype": "text/x-python",
   "name": "python",
   "nbconvert_exporter": "python",
   "pygments_lexer": "ipython3",
   "version": "3.9.12"
  },
  "orig_nbformat": 4
 },
 "nbformat": 4,
 "nbformat_minor": 2
}
