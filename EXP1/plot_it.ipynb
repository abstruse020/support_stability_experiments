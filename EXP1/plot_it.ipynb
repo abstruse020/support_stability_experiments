{
 "cells": [
  {
   "cell_type": "code",
   "execution_count": 1,
   "id": "04cc5105-6188-415c-899d-06580455b03c",
   "metadata": {},
   "outputs": [],
   "source": [
    "import torch\n",
    "import torch.nn as nn\n",
    "import torch.nn.functional as F\n",
    "import numpy as np\n",
    "import torchvision\n",
    "import torchvision.transforms as transforms\n",
    "from torch.autograd.functional import hessian\n",
    "import torch.utils.data as data_utils\n",
    "import matplotlib.pyplot as plt\n",
    "import random\n",
    "\n",
    "from tqdm.notebook import tqdm \n",
    "import pickle\n",
    "import matplotlib.pyplot as plt\n",
    "import matplotlib.colors\n",
    "import seaborn as sns\n",
    "import os\n",
    "import copy\n",
    "from torch.nn.utils import _stateless\n",
    "import pandas as pd"
   ]
  },
  {
   "cell_type": "code",
   "execution_count": 3,
   "id": "400ac120-eb13-467d-91f0-82ed923a0d3e",
   "metadata": {},
   "outputs": [],
   "source": [
    "def get_exp_details(root_dir, path):\n",
    "    result_details={}\n",
    "    details_path = root_dir+ 'details_'+ path + '.txt'\n",
    "    with open(details_path, 'r') as f:\n",
    "        lines = f.readlines()\n",
    "    for line in lines:\n",
    "        key, val = line[:-1].split(':')\n",
    "        key, val = key.strip(' '), val.strip(' ')\n",
    "        if key in ['ratio', 'alpha_0']:\n",
    "            val = float(val)\n",
    "        if key in ['Times', 'Weights', 'Epochs', 'book_keep_freq', 'g_times', 'g_epochs','g_weight', 'freq_reduce_by', 'freq_reduce_after']:\n",
    "            val = int(val)\n",
    "        result_details[key] = val\n",
    "    return result_details\n",
    "\n",
    "def get_exp_results(r_det):\n",
    "    root_dir = r_det['result_root_dir']\n",
    "    path = r_det['result_path']\n",
    "    grad_file_path = root_dir+'grad_'+path\n",
    "    hess_file_path = root_dir+'hess_'+path\n",
    "    gen_file_path  = root_dir+'gen_'+path\n",
    "    \n",
    "    # print(result_details)\n",
    "    grad_list    = []\n",
    "    hess_list    = []\n",
    "    gen_err_list = []\n",
    "    \n",
    "    with open(grad_file_path, 'r') as f:\n",
    "        lines = f.readlines()\n",
    "    for line in lines:\n",
    "        tensors = line[:-1].split(') ')\n",
    "        # print('tensors',tensors)\n",
    "        t_list = [float(t[7:].split(' ')[0][:-1]) for t in tensors]\n",
    "        # print('grad_list_i length:',len(t_list))\n",
    "        grad_list.append(t_list)\n",
    "    \n",
    "    with open(hess_file_path, 'r') as f:\n",
    "        lines = f.readlines()\n",
    "    for line in lines:\n",
    "        tensors = line[:-1].split(' ')\n",
    "        # print('tensors',tensors)\n",
    "        t_list = [float(t[7:-1]) for t in tensors]\n",
    "        # print('hess_list_i length:',len(t_list))\n",
    "        hess_list.append(t_list)\n",
    "    \n",
    "    with open(gen_file_path, 'r') as f:\n",
    "        lines = f.readlines()\n",
    "    for line in lines:\n",
    "        tensors = line[:-1].split(' ')\n",
    "        # print('tensors',tensors)\n",
    "        t_list = [float(t) for t in tensors]\n",
    "        # print('hess_list_i length:',len(t_list))\n",
    "        gen_err_list.append(t_list)\n",
    "        \n",
    "    hess_list = np.array(hess_list)\n",
    "    grad_list = np.array(grad_list)\n",
    "    gen_err_list = np.array(gen_err_list)\n",
    "    print('hess list shape:',hess_list.shape)\n",
    "    print('grad list shape:',grad_list.shape)\n",
    "    print('gen err list shape:',gen_err_list.shape)\n",
    "    \n",
    "    # K_g = np.max(np.mean(np.array(grad_list), 0))\n",
    "    # L_g = np.max(np.mean(np.array(hess_list), 0))\n",
    "    \n",
    "    K_g = np.max(np.max(np.array(grad_list), 1))\n",
    "    L_g = np.max(np.max(np.array(hess_list), 1))\n",
    "    \n",
    "    K_g_avg = np.mean(grad_list)\n",
    "    L_g_avg = np.mean(hess_list)\n",
    "    K_g_run_avg = []\n",
    "    L_g_run_avg = []\n",
    "    for i, kgi in enumerate(np.mean(grad_list, 0)):\n",
    "        temp = np.mean(np.mean(grad_list, 0)[:i+1])\n",
    "        K_g_run_avg.append(temp)\n",
    "    for i,lgi in enumerate(np.mean(hess_list, 0)):\n",
    "        temp = np.mean(np.mean(hess_list, 0)[:i+1])\n",
    "        L_g_run_avg.append(temp)\n",
    "        \n",
    "    book_keep_freq = r_det['book_keep_freq']\n",
    "    freq_reduce_after = r_det['freq_reduce_after']\n",
    "    freq_reduce_by = r_det['freq_reduce_by']\n",
    "    x_values = []\n",
    "    count_keep = 0\n",
    "    for i in range(20000):\n",
    "        if i%book_keep_freq==0:\n",
    "            x_values.append(i+1)\n",
    "            count_keep+=1\n",
    "            if count_keep%freq_reduce_after==0:\n",
    "                book_keep_freq+=freq_reduce_by\n",
    "    \n",
    "    return grad_list, hess_list, K_g, L_g, x_values, gen_err_list, K_g_run_avg, L_g_run_avg, K_g_avg, L_g_avg"
   ]
  },
  {
   "cell_type": "markdown",
   "id": "9ad80406",
   "metadata": {},
   "source": [
    "### Old function for plot"
   ]
  },
  {
   "cell_type": "code",
   "execution_count": 3,
   "id": "8d3e21b2-3095-4c79-a7cb-f91da82b2ff8",
   "metadata": {
    "tags": []
   },
   "outputs": [],
   "source": [
    "def get_running_upper_bound(l, x_values=None):\n",
    "    ub = [l[0]]\n",
    "    ub_x = [0]\n",
    "    if x_values is not None:\n",
    "        ub_x = [x_values[0]]\n",
    "    else:\n",
    "        x_values = range(len(l))\n",
    "    for l_i, x_v in zip(l[1:], x_values[1:]):\n",
    "        if ub[-1]<l_i:\n",
    "            ub.append(l_i)\n",
    "            ub_x.append(x_v)\n",
    "    ub_x.append(x_values[-1])\n",
    "    ub.append(max(l[-1], ub[-1]))\n",
    "    return {'x': ub_x, 'y': np.array(ub)}\n",
    "\n",
    "def get_avg_and_dev(l):\n",
    "    running_avg = np.zeros_like(l)\n",
    "    running_dev = np.zeros_like(l)\n",
    "    for i in range(len(l)):\n",
    "        running_avg[i] = np.mean(l[:i+1])\n",
    "        running_dev[i] = np.std(l[:i+1])\n",
    "    return running_avg, running_dev\n",
    "    \n",
    "def plot_e1(grad_list, hess_list, x_values=None, path=None, lp_ylim = None, sm_ylim = None):\n",
    "    fig, ax =plt.subplots(figsize=(12,10))\n",
    "    fontsize = 24\n",
    "    ticksize = 20\n",
    "    line_width = 3\n",
    "    marker_size = 12\n",
    "    rotation = -30\n",
    "    if x_values is None:\n",
    "        x_values = range(len(grad_list[0]))\n",
    "    sns.set_style(\"whitegrid\")\n",
    "    \n",
    "    grad_list_max = np.max(grad_list,0) ## max for every experiment per epochs\n",
    "    grad_list_mean = np.mean(grad_list,0) ## mean for every experiment per epochs\n",
    "    running_avg, running_dev =  get_avg_and_dev(grad_list_max)\n",
    "    running_dev = np.std(grad_list, 0)\n",
    "    \n",
    "    print(running_avg[:10])\n",
    "    print(running_dev[:10])\n",
    "    print(grad_list_max[:10])\n",
    "    \n",
    "    # plt.plot(x_values, running_avg, 'orange', label='Running Average')\n",
    "    # ax.fill_between(x_values, running_avg-running_dev, running_avg+ running_dev, color='orange', alpha=.2)\n",
    "    ub_list = get_running_upper_bound(grad_list_max, x_values)\n",
    "    plt.plot(ub_list['x'],ub_list['y'] , 'red',label='Empirical Max')\n",
    "    \n",
    "    # Old swigly plot\n",
    "    # plt.plot(x_values, np.mean(grad_list,0), 'orange', label='Actual values')\n",
    "    \n",
    "    plt.ylabel('Parameter Lipschitz', fontsize=fontsize)\n",
    "    plt.xlabel('Number of Datapoints', fontsize=fontsize)\n",
    "    # plt.title('Mnist dataset', fontsize=fontsize)\n",
    "    plt.xlim(-100, plt.xlim()[1])\n",
    "    if lp_ylim is not None:\n",
    "        plt.ylim(lp_ylim)\n",
    "    ax.legend()\n",
    "    sns.set(font='sans-serif', style='whitegrid', font_scale=2, rc={\"lines.linewidth\": line_width, \"lines.markersize\":marker_size})\n",
    "    plt.xticks(rotation=rotation)\n",
    "    if path is not None:\n",
    "        plt.savefig('e1_Lp_const_'+ path)\n",
    "    else:\n",
    "        plt.show()\n",
    "    \n",
    "    fig, ax =plt.subplots(figsize=(12,10))\n",
    "    sns.set_style(\"whitegrid\")\n",
    "    hess_list_max = np.max(hess_list,0) ## max for every experiment per epochs\n",
    "    hess_list_mean = np.mean(hess_list,0) ## mean for every experiment per epochs\n",
    "    running_avg, running_dev =  get_avg_and_dev(hess_list_max)\n",
    "    running_dev = np.std(hess_list, 0)\n",
    "    # plt.plot(x_values, running_avg, 'green', label='Running Average')\n",
    "    # ax.fill_between(x_values, running_avg-running_dev, running_avg+ running_dev, color='green', alpha=.2)\n",
    "    ub_list = get_running_upper_bound(hess_list_max, x_values)\n",
    "    plt.plot(ub_list['x'],ub_list['y'] , 'red', label='Empirical Max')\n",
    "    \n",
    "    # old sqigly lines\n",
    "    # plt.plot(x_values, hess_list_max,'green', label='Actual values')\n",
    "    \n",
    "    plt.ylabel('Parameter Smoothness', fontsize=fontsize)\n",
    "    plt.xlabel('Number of Datapoints', fontsize=fontsize)\n",
    "    plt.xlim(-100, plt.xlim()[1])\n",
    "    if sm_ylim is not None:\n",
    "        plt.ylim(sm_ylim)\n",
    "    ax.legend()\n",
    "    sns.set(font='sans-serif', style='whitegrid', font_scale=2, rc={\"lines.linewidth\": line_width, \"lines.markersize\":marker_size})\n",
    "    # plt.title('Mnist dataset', fontsize=fontsize)\n",
    "    plt.xticks(rotation=rotation)\n",
    "    if path is not None:\n",
    "        plt.savefig('e1_sm_const_'+path)\n",
    "    else:\n",
    "        plt.show()"
   ]
  },
  {
   "cell_type": "markdown",
   "id": "32d68889",
   "metadata": {},
   "source": [
    "### Function in use and old code for Plot used in ICLR submission"
   ]
  },
  {
   "cell_type": "code",
   "execution_count": 5,
   "id": "186961e7-b845-44fe-9698-bd75e208eef4",
   "metadata": {},
   "outputs": [],
   "source": [
    "def get_running_upper_bound(l, x_values=None):\n",
    "    ub = [l[0]]\n",
    "    ub_x = [0]\n",
    "    if x_values is not None:\n",
    "        ub_x = [x_values[0]]\n",
    "    else:\n",
    "        x_values = range(len(l))\n",
    "    for l_i, x_v in zip(l[1:], x_values[1:]):\n",
    "        if ub[-1]<l_i:\n",
    "            ub.append(l_i)\n",
    "            ub_x.append(x_v)\n",
    "    ub_x.append(x_values[-1])\n",
    "    ub.append(max(l[-1], ub[-1]))\n",
    "    return {'x': ub_x, 'y': np.array(ub)}\n",
    "\n",
    "def get_avg_and_dev(l):\n",
    "    running_avg = np.zeros_like(l)\n",
    "    running_dev = np.zeros_like(l)\n",
    "    for i in range(len(l)):\n",
    "        running_avg[i] = np.mean(l[:i+1])\n",
    "        running_dev[i] = np.std(l[:i+1])\n",
    "    return running_avg, running_dev\n",
    "\n",
    "### Commented the plot code for ICLR, now using new code for TMLR\n",
    "# def plot_e1(grad_list, hess_list, x_values=None, path=None, lp_ylim = None, sm_ylim = None):\n",
    "#     fig, ax =plt.subplots(figsize=(12,10))\n",
    "#     fontsize = 40\n",
    "#     keysize = 35\n",
    "#     ticksize = 35\n",
    "#     line_width = 6\n",
    "#     marker_size = 12\n",
    "#     rotation = -30\n",
    "#     if x_values is None:\n",
    "#         x_values = range(len(grad_list[0]))\n",
    "#     sns.set_style(\"whitegrid\")\n",
    "    \n",
    "#     grad_list_max = np.max(grad_list,0) ## max for every experiment per epochs\n",
    "#     grad_list_mean = np.mean(grad_list,0) ## mean for every experiment per epochs\n",
    "#     running_avg, running_dev =  get_avg_and_dev(grad_list_max)\n",
    "#     running_dev = np.std(grad_list, 0)\n",
    "    \n",
    "#     # print(running_avg[:10])\n",
    "#     # print(running_dev[:10])\n",
    "#     # print(grad_list_max[:10])\n",
    "    \n",
    "#     # plt.plot(x_values, running_avg, 'orange', label='Running Average')\n",
    "#     # ax.fill_between(x_values, running_avg-running_dev, running_avg+ running_dev, color='orange', alpha=.2)\n",
    "#     ub_list = get_running_upper_bound(grad_list_max, x_values)\n",
    "#     plt.plot(ub_list['x'],ub_list['y'] , 'orange',label='Parameter Lipschitz')\n",
    "    \n",
    "#     # Old swigly plot\n",
    "#     # plt.plot(x_values, np.mean(grad_list,0), 'orange', label='Actual values')\n",
    "#     # plt.yscale('log')\n",
    "#     plt.ylabel('Empirical Max', fontsize=fontsize)\n",
    "#     plt.xlabel('Number of Datapoints', fontsize=fontsize)\n",
    "#     # plt.title('Mnist dataset', fontsize=fontsize)\n",
    "#     plt.xlim(-100, plt.xlim()[1])\n",
    "#     # if lp_ylim is not None:\n",
    "#         # plt.ylim(lp_ylim)\n",
    "#     # ax.legend()\n",
    "#     sns.set(font='sans-serif', style='whitegrid', font_scale=2, rc={\"lines.linewidth\": line_width, \"lines.markersize\":marker_size})\n",
    "    \n",
    "#     # if path is not None:\n",
    "#     #     plt.savefig('e1_Lp_const_'+ path)\n",
    "#     # else:\n",
    "#     #     plt.show()\n",
    "    \n",
    "#     # fig, ax =plt.subplots(figsize=(12,10))\n",
    "#     # fig.add_subplots(label=2)\n",
    "#     # sns.set_style(\"whitegrid\")\n",
    "#     hess_list_max = np.max(hess_list,0) ## max for every experiment per epochs\n",
    "#     hess_list_mean = np.mean(hess_list,0) ## mean for every experiment per epochs\n",
    "#     running_avg, running_dev =  get_avg_and_dev(hess_list_max)\n",
    "#     running_dev = np.std(hess_list, 0)\n",
    "#     # plt.plot(x_values, running_avg, 'green', label='Running Average')\n",
    "#     # ax.fill_between(x_values, running_avg-running_dev, running_avg+ running_dev, color='green', alpha=.2)\n",
    "#     ub_list = get_running_upper_bound(hess_list_max, x_values)\n",
    "#     plt.plot(ub_list['x'],ub_list['y'] , 'green', label='Parameter smoothness')\n",
    "    \n",
    "#     # old sqigly lines\n",
    "#     # plt.plot(x_values, hess_list_max,'green', label='Actual values')\n",
    "#     # secax = ax.secondary_yaxis('right', functions=(np.deg2rad,np.rad2deg))\n",
    "#     # secax.set_ylabel('Parameter Smoothness', fontsize=fontsize)\n",
    "#     # plt.xlabel('Number of Datapoints', fontsize=fontsize)\n",
    "#     # plt.xlim(-100, plt.xlim()[1])\n",
    "#     if sm_ylim is not None:\n",
    "#         plt.ylim(sm_ylim)\n",
    "#     ax.legend(fontsize= keysize)\n",
    "#     sns.set(font='sans-serif', style='whitegrid', font_scale=2, rc={\"lines.linewidth\": line_width, \"lines.markersize\":marker_size})\n",
    "#     # plt.title('Mnist dataset', fontsize=fontsize)\n",
    "#     plt.xticks(rotation=rotation, size=ticksize)\n",
    "#     plt.yticks(size=ticksize)\n",
    "#     plt.tight_layout()\n",
    "#     if path is not None:\n",
    "#         plt.savefig('e1_'+path, pad_inches=0)\n",
    "#     else:\n",
    "#         plt.show()"
   ]
  },
  {
   "cell_type": "markdown",
   "id": "c692e336",
   "metadata": {},
   "source": [
    "## Better plots"
   ]
  },
  {
   "cell_type": "code",
   "execution_count": 6,
   "id": "ef95e8be",
   "metadata": {},
   "outputs": [],
   "source": [
    "def plot_stability_e1(grad_list, hess_list, x_values, path = None):\n",
    "    grad_running_ub = get_running_upper_bound(np.max(grad_list,0), x_values=x_values)\n",
    "    hess_running_ub = get_running_upper_bound(np.max(hess_list,0), x_values=x_values)\n",
    "    grad_df = pd.DataFrame(grad_running_ub)\n",
    "    hess_df = pd.DataFrame(hess_running_ub)\n",
    "    \n",
    "    ## Resetting sns params\n",
    "    sns.set_theme()\n",
    "    ## Applying locally\n",
    "    with sns.axes_style('ticks'):\n",
    "        sns.set_context('talk')\n",
    "        sns.lineplot(x='x',y='y',data = grad_df, label='Training Lipschitz constant')\n",
    "        sns.lineplot(x='x',y='y',data = hess_df, label='Training Smoothness constant')\n",
    "        plt.ylabel('Empirical max')\n",
    "        plt.xlabel('Number of Datapoints')\n",
    "        if path is not None:\n",
    "            plt.savefig('e1_'+ path, bbox_inches='tight', dpi=300)\n",
    "    return\n",
    "\n",
    "# plot_stability_e1(grad_list, hess_list, x_values)"
   ]
  },
  {
   "cell_type": "markdown",
   "id": "4b17975f",
   "metadata": {},
   "source": [
    "### Rough testing, running max over m and variance over exp, but was worst, maybee because the accuracy is very less"
   ]
  },
  {
   "cell_type": "code",
   "execution_count": 37,
   "id": "9978bab5",
   "metadata": {},
   "outputs": [
    {
     "data": {
      "text/html": [
       "<div>\n",
       "<style scoped>\n",
       "    .dataframe tbody tr th:only-of-type {\n",
       "        vertical-align: middle;\n",
       "    }\n",
       "\n",
       "    .dataframe tbody tr th {\n",
       "        vertical-align: top;\n",
       "    }\n",
       "\n",
       "    .dataframe thead th {\n",
       "        text-align: right;\n",
       "    }\n",
       "</style>\n",
       "<table border=\"1\" class=\"dataframe\">\n",
       "  <thead>\n",
       "    <tr style=\"text-align: right;\">\n",
       "      <th></th>\n",
       "      <th>exp</th>\n",
       "      <th>m</th>\n",
       "      <th>grad</th>\n",
       "      <th>hess</th>\n",
       "      <th>grad_running_ub</th>\n",
       "      <th>hess_running_ub</th>\n",
       "    </tr>\n",
       "  </thead>\n",
       "  <tbody>\n",
       "    <tr>\n",
       "      <th>0</th>\n",
       "      <td>0</td>\n",
       "      <td>1</td>\n",
       "      <td>3.6074</td>\n",
       "      <td>36.8597</td>\n",
       "      <td>3.6074</td>\n",
       "      <td>36.8597</td>\n",
       "    </tr>\n",
       "    <tr>\n",
       "      <th>1</th>\n",
       "      <td>0</td>\n",
       "      <td>21</td>\n",
       "      <td>4.5641</td>\n",
       "      <td>29.7851</td>\n",
       "      <td>4.5641</td>\n",
       "      <td>36.8597</td>\n",
       "    </tr>\n",
       "    <tr>\n",
       "      <th>2</th>\n",
       "      <td>0</td>\n",
       "      <td>41</td>\n",
       "      <td>2.7014</td>\n",
       "      <td>15.6600</td>\n",
       "      <td>4.5641</td>\n",
       "      <td>36.8597</td>\n",
       "    </tr>\n",
       "    <tr>\n",
       "      <th>3</th>\n",
       "      <td>0</td>\n",
       "      <td>61</td>\n",
       "      <td>2.7420</td>\n",
       "      <td>23.7188</td>\n",
       "      <td>4.5641</td>\n",
       "      <td>36.8597</td>\n",
       "    </tr>\n",
       "    <tr>\n",
       "      <th>4</th>\n",
       "      <td>0</td>\n",
       "      <td>81</td>\n",
       "      <td>2.5983</td>\n",
       "      <td>13.0813</td>\n",
       "      <td>4.5641</td>\n",
       "      <td>36.8597</td>\n",
       "    </tr>\n",
       "    <tr>\n",
       "      <th>...</th>\n",
       "      <td>...</td>\n",
       "      <td>...</td>\n",
       "      <td>...</td>\n",
       "      <td>...</td>\n",
       "      <td>...</td>\n",
       "      <td>...</td>\n",
       "    </tr>\n",
       "    <tr>\n",
       "      <th>3195</th>\n",
       "      <td>7</td>\n",
       "      <td>19601</td>\n",
       "      <td>5.3758</td>\n",
       "      <td>47.8696</td>\n",
       "      <td>8.1174</td>\n",
       "      <td>58.1850</td>\n",
       "    </tr>\n",
       "    <tr>\n",
       "      <th>3196</th>\n",
       "      <td>7</td>\n",
       "      <td>19681</td>\n",
       "      <td>5.3191</td>\n",
       "      <td>33.5899</td>\n",
       "      <td>8.1174</td>\n",
       "      <td>58.1850</td>\n",
       "    </tr>\n",
       "    <tr>\n",
       "      <th>3197</th>\n",
       "      <td>7</td>\n",
       "      <td>19761</td>\n",
       "      <td>5.9176</td>\n",
       "      <td>38.1959</td>\n",
       "      <td>8.1174</td>\n",
       "      <td>58.1850</td>\n",
       "    </tr>\n",
       "    <tr>\n",
       "      <th>3198</th>\n",
       "      <td>7</td>\n",
       "      <td>19841</td>\n",
       "      <td>4.3044</td>\n",
       "      <td>30.4348</td>\n",
       "      <td>8.1174</td>\n",
       "      <td>58.1850</td>\n",
       "    </tr>\n",
       "    <tr>\n",
       "      <th>3199</th>\n",
       "      <td>7</td>\n",
       "      <td>19921</td>\n",
       "      <td>4.7920</td>\n",
       "      <td>32.1965</td>\n",
       "      <td>8.1174</td>\n",
       "      <td>58.1850</td>\n",
       "    </tr>\n",
       "  </tbody>\n",
       "</table>\n",
       "<p>3200 rows × 6 columns</p>\n",
       "</div>"
      ],
      "text/plain": [
       "      exp      m    grad     hess  grad_running_ub  hess_running_ub\n",
       "0       0      1  3.6074  36.8597           3.6074          36.8597\n",
       "1       0     21  4.5641  29.7851           4.5641          36.8597\n",
       "2       0     41  2.7014  15.6600           4.5641          36.8597\n",
       "3       0     61  2.7420  23.7188           4.5641          36.8597\n",
       "4       0     81  2.5983  13.0813           4.5641          36.8597\n",
       "...   ...    ...     ...      ...              ...              ...\n",
       "3195    7  19601  5.3758  47.8696           8.1174          58.1850\n",
       "3196    7  19681  5.3191  33.5899           8.1174          58.1850\n",
       "3197    7  19761  5.9176  38.1959           8.1174          58.1850\n",
       "3198    7  19841  4.3044  30.4348           8.1174          58.1850\n",
       "3199    7  19921  4.7920  32.1965           8.1174          58.1850\n",
       "\n",
       "[3200 rows x 6 columns]"
      ]
     },
     "execution_count": 37,
     "metadata": {},
     "output_type": "execute_result"
    }
   ],
   "source": [
    "def make_result_df(grad_list, hess_list, x_values):\n",
    "    result_dict = {'exp':[], 'm':[], 'grad':[], 'hess':[], 'grad_running_ub':[], 'hess_running_ub': []}\n",
    "    \n",
    "    for exp in range(len(grad_list)):\n",
    "        grad_running_ub = []\n",
    "        hess_running_ub = []\n",
    "        for m_id in range(len(grad_list[exp])):\n",
    "            result_dict['exp'].append(exp)\n",
    "            result_dict['m'].append(x_values[m_id])\n",
    "            local_grad = grad_list[exp][m_id]\n",
    "            local_hess = hess_list[exp][m_id]\n",
    "            result_dict['grad'].append(local_grad)\n",
    "            result_dict['hess'].append(local_hess)\n",
    "\n",
    "            if len(grad_running_ub) == 0:\n",
    "                grad_running_ub.append(local_grad)\n",
    "                hess_running_ub.append(local_hess)\n",
    "            else:\n",
    "                grad_running_ub.append(max(grad_running_ub[-1], local_grad))\n",
    "                hess_running_ub.append(max(hess_running_ub[-1], local_hess))\n",
    "\n",
    "        result_dict['grad_running_ub'] += grad_running_ub\n",
    "        result_dict['hess_running_ub'] += hess_running_ub\n",
    "\n",
    "    \n",
    "    return pd.DataFrame(result_dict)\n",
    "\n",
    "result_df = make_result_df(grad_list, hess_list, x_values)\n",
    "result_df"
   ]
  },
  {
   "cell_type": "code",
   "execution_count": 53,
   "id": "9fb7d2e1",
   "metadata": {},
   "outputs": [
    {
     "data": {
      "text/plain": [
       "[<matplotlib.lines.Line2D at 0x7f816e78ccd0>]"
      ]
     },
     "execution_count": 53,
     "metadata": {},
     "output_type": "execute_result"
    },
    {
     "data": {
      "image/png": "[encoded data removed]",
      "text/plain": [
       "<Figure size 432x288 with 1 Axes>"
      ]
     },
     "metadata": {},
     "output_type": "display_data"
    }
   ],
   "source": [
    "plt.plot(result_df.groupby('m', as_index=True)['grad'].max())"
   ]
  },
  {
   "cell_type": "code",
   "execution_count": 39,
   "id": "cb3fc9ad",
   "metadata": {},
   "outputs": [
    {
     "data": {
      "text/plain": [
       "<AxesSubplot:xlabel='m', ylabel='grad_running_ub'>"
      ]
     },
     "execution_count": 39,
     "metadata": {},
     "output_type": "execute_result"
    },
    {
     "data": {
      "image/png": "[encoded data removed]",
      "text/plain": [
       "<Figure size 432x288 with 1 Axes>"
      ]
     },
     "metadata": {},
     "output_type": "display_data"
    }
   ],
   "source": [
    "sns.lineplot(x='m', y='grad_running_ub', data=result_df)\n"
   ]
  },
  {
   "cell_type": "markdown",
   "id": "740eaad0",
   "metadata": {},
   "source": [
    "## Main result exp1 MNIST"
   ]
  },
  {
   "cell_type": "code",
   "execution_count": 7,
   "id": "b6d2a35c-4faf-48f9-88e8-83a1fdc4deb6",
   "metadata": {},
   "outputs": [
    {
     "name": "stdout",
     "output_type": "stream",
     "text": [
      "hess list shape: (8, 400)\n",
      "grad list shape: (8, 400)\n",
      "gen err list shape: (8, 400)\n"
     ]
    }
   ],
   "source": [
    "root_dir = 'results/t1/'\n",
    "path = 'try1_t10_r.4'\n",
    "lp_ylim = (-.1,8.5)\n",
    "sm_ylim = (-.1, 60)\n",
    "details = get_exp_details(root_dir, path)\n",
    "grad_list, hess_list, K_g, L_g, x_values, gen_err_list,K_g_run_avg, L_g_run_avg, K_g_avg, L_g_avg = get_exp_results(details)\n",
    "# plot_e1(grad_list, hess_list, x_values, path='mnist_rough.pdf', lp_ylim=lp_ylim, sm_ylim=sm_ylim)"
   ]
  },
  {
   "cell_type": "code",
   "execution_count": 8,
   "id": "4b389329",
   "metadata": {},
   "outputs": [
    {
     "data": {
      "image/png": "[encoded data removed]",
      "text/plain": [
       "<Figure size 432x288 with 1 Axes>"
      ]
     },
     "metadata": {},
     "output_type": "display_data"
    }
   ],
   "source": [
    "plot_stability_e1(grad_list, hess_list, x_values, path='mnist.pdf')"
   ]
  },
  {
   "cell_type": "markdown",
   "id": "440adbfd",
   "metadata": {},
   "source": [
    "## Main result exp1 FMNIST"
   ]
  },
  {
   "cell_type": "code",
   "execution_count": 9,
   "id": "5ed696b7-8314-4843-8b64-b6f801fe7d1c",
   "metadata": {},
   "outputs": [
    {
     "name": "stdout",
     "output_type": "stream",
     "text": [
      "hess list shape: (8, 400)\n",
      "grad list shape: (8, 400)\n",
      "gen err list shape: (8, 400)\n"
     ]
    }
   ],
   "source": [
    "root_dir = 'results/t2/'\n",
    "path = 'try2f_t8_r.4'\n",
    "lp_ylim = (-0.1, 13)\n",
    "sm_ylim = (-0.1, 110)\n",
    "details = get_exp_details(root_dir, path)\n",
    "grad_list, hess_list, K_g, L_g, x_values, gen_err_list,K_g_run_avg, L_g_run_avg, K_g_avg, L_g_avg = get_exp_results(details)\n",
    "# plot_e1(grad_list, hess_list, x_values, path='Fmnist.pdf',lp_ylim= lp_ylim,sm_ylim= sm_ylim)"
   ]
  },
  {
   "cell_type": "code",
   "execution_count": 10,
   "id": "289d2f8c",
   "metadata": {},
   "outputs": [
    {
     "data": {
      "image/png": "[encoded data removed]",
      "text/plain": [
       "<Figure size 432x288 with 1 Axes>"
      ]
     },
     "metadata": {},
     "output_type": "display_data"
    }
   ],
   "source": [
    "plot_stability_e1(grad_list, hess_list, x_values, path='Fmnist.pdf')"
   ]
  },
  {
   "cell_type": "code",
   "execution_count": null,
   "id": "e6ea319f-7658-479d-89be-f6cb54fc6a95",
   "metadata": {},
   "outputs": [],
   "source": []
  },
  {
   "cell_type": "code",
   "execution_count": 58,
   "id": "d3f3d779-2703-4d84-a3b3-201a1173dba4",
   "metadata": {},
   "outputs": [
    {
     "data": {
      "text/plain": [
       "(8.1174, 58.185)"
      ]
     },
     "execution_count": 58,
     "metadata": {},
     "output_type": "execute_result"
    }
   ],
   "source": [
    "K_g, L_g"
   ]
  },
  {
   "cell_type": "code",
   "execution_count": null,
   "id": "e8e904bd-2ea9-4f1d-bdc5-858434b49ab0",
   "metadata": {},
   "outputs": [],
   "source": []
  }
 ],
 "metadata": {
  "kernelspec": {
   "display_name": "Python 3 (ipykernel)",
   "language": "python",
   "name": "python3"
  },
  "language_info": {
   "codemirror_mode": {
    "name": "ipython",
    "version": 3
   },
   "file_extension": ".py",
   "mimetype": "text/x-python",
   "name": "python",
   "nbconvert_exporter": "python",
   "pygments_lexer": "ipython3",
   "version": "3.9.12"
  }
 },
 "nbformat": 4,
 "nbformat_minor": 5
}
