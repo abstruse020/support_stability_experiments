{
 "cells": [
  {
   "cell_type": "code",
   "execution_count": 1,
   "id": "99e8fcb7-25c5-4a49-aeec-f2f7fc2dc79c",
   "metadata": {},
   "outputs": [],
   "source": [
    "import numpy as np\n",
    "import matplotlib.pyplot as plt\n",
    "import matplotlib.colors\n",
    "import pandas as pd\n",
    "from sklearn.model_selection import train_test_split\n",
    "from sklearn.metrics import accuracy_score, mean_squared_error, log_loss\n",
    "from tqdm.notebook import tqdm \n",
    "import datetime\n",
    "import seaborn as sns\n",
    "\n",
    "from sklearn.preprocessing import OneHotEncoder, Normalizer, StandardScaler, MinMaxScaler\n",
    "from sklearn.datasets import load_digits, load_iris\n",
    "\n",
    "from numpy.linalg import norm\n",
    "import pickle\n",
    "\n",
    "## Personal Imports\n",
    "from my_model_e2 import FFNetwork\n",
    "from db_creator import Dataset\n",
    "\n",
    "## DETAILS\n",
    "# Here we will plot our bound and the actual generalization error.\n",
    "# FIX m and w, for non over parameterized setting.\n",
    "# \n",
    "# SUMMARY-\n",
    "# For OUR BOUND-\n",
    "#   There are 3 selections- z', ith_point, random_string\n",
    "#   I am doing this randomly for say t times, and then taking the mean of Lipschitz\n",
    "#    constant for every epoch. And then max over all epochs to get LP and SM const.\n",
    "#\n",
    "# For Our bound- \n",
    "#   We need to calculate lipschitz and smoothness constant.\n",
    "#     - I am using the local smoothness constant\n",
    "#     - can use global i.e. need to calculate max(K_t, (f(w) - f(w'))/delta_t ) # DO IT LATER\n",
    "#   We need to perform this multiple times, as we will get different ith point each time.\n",
    "#    and then take the max(should be mean as expectation over r) of the lipschitz constant\n",
    "#    across all experiments and (across all epochs)?, for the given K and L we will use\n",
    "#    our bound to get the result. i.e we will keep changing m in our formulae and plot the\n",
    "#    values we get,\n",
    "#   We can do it just 50-60 times as we don't need delta_t, or loss_diff of two models.\n",
    "#   IMP we shold use same order across all experiments with just ith point getting changed?\n",
    "# For generalization error-\n",
    "#   We calculate it using models validation loss - models train loss, we do this for every\n",
    "#    step. ALso for every experiment (i.e. t times) we will do this and take the mean \n",
    "#    (or else how to plot exact as its R(S,A,r) - Re(S,A,r)) and we will get list of the \n",
    "#    generalization error as m increases.\n",
    "#  \n",
    "# Others-\n",
    "#   Wriuting code such that we can make 2 sets"
   ]
  },
  {
   "cell_type": "code",
   "execution_count": 2,
   "id": "4cdff4bc-6a31-489d-a633-b23109497085",
   "metadata": {
    "tags": []
   },
   "outputs": [
    {
     "name": "stdout",
     "output_type": "stream",
     "text": [
      "X,Y train (100, 4) (100,)\n",
      "X,Y val (50, 4) (50,)\n"
     ]
    }
   ],
   "source": [
    "use_db = 'iris'\n",
    "result_root_dir='results/t1/'\n",
    "result_path='try_'\n",
    "book_keep_freq = 10\n",
    "g_times = 10\n",
    "g_weight = 20\n",
    "g_epochs = 1\n",
    "alpha_0= 0.1\n",
    "exp_times_limit = 1000\n",
    "training_step_limit = 1000000\n",
    "\n",
    "\n",
    "\n",
    "\n",
    "op_features = 5\n",
    "if use_db == 'page-blocks':\n",
    "    X_train, Y_train, X_val, Y_val = Dataset().get_page_blocks('datasets/page-blocks.data')\n",
    "    # input_features = 10\n",
    "    op_features = 5\n",
    "elif use_db == 'iris':\n",
    "    X_train, Y_train, X_val, Y_val = Dataset().get_iris()\n",
    "    # input_features = 4\n",
    "    op_features = 3\n",
    "\n",
    "def get_replaced_index_same_order(X_train):\n",
    "    \n",
    "    ## Forcing this function to be random ##\n",
    "    # seed_num = datetime.datetime.now().microsecond\n",
    "    # np.random.seed(seed_num)\n",
    "    #######################################\n",
    "    \n",
    "    replaced_index = 0\n",
    "    index = np.arange(X_train.shape[0])\n",
    "    zd_index = np.random.choice(index)\n",
    "    # print('index pf point to pick out:', zd_index)\n",
    "    S1_ind = [i for i in index if i != zd_index]\n",
    "    # print('S1_ind:',S1_ind)\n",
    "    S2_ind = S1_ind\n",
    "    ith_point = np.random.choice(index[:-1])\n",
    "    # print('ith_point:', ith_point)\n",
    "    S2_ind[ith_point] = zd_index\n",
    "    # print('S2_ind:',S2_ind)\n",
    "    return S1_ind, S2_ind, ith_point\n",
    "\n",
    "def get_replaced_index(X_train):\n",
    "    \n",
    "    ## Forcing this function to be random ##\n",
    "    seed_num = datetime.datetime.now().microsecond\n",
    "    np.random.seed(seed_num)\n",
    "    #######################################\n",
    "    \n",
    "    replaced_index = 0\n",
    "    index = np.arange(X_train.shape[0])\n",
    "    np.random.shuffle(index)\n",
    "\n",
    "    S_ind = index[:-1]\n",
    "    S_d_ind = np.append(index[:-2], index[-1:])\n",
    "    ind_temp = np.arange(len(S_ind))\n",
    "    np.random.shuffle(ind_temp)\n",
    "    for i,l in enumerate(ind_temp):\n",
    "        if l == len(S_ind)-1:\n",
    "            replaced_index = i\n",
    "            # print('replaced index :', replaced_index)\n",
    "            break\n",
    "\n",
    "    S_ind = S_ind[ind_temp]\n",
    "    S_d_ind = S_d_ind[ind_temp]\n",
    "    # print('S index :', S_ind)\n",
    "    # print('S\\' index:', S_d_ind)\n",
    "    return S_ind, S_d_ind, replaced_index"
   ]
  },
  {
   "cell_type": "code",
   "execution_count": null,
   "id": "c9f48ae7-6f8e-43e0-a4d1-6ffa82c5d905",
   "metadata": {},
   "outputs": [],
   "source": []
  },
  {
   "cell_type": "code",
   "execution_count": null,
   "id": "b3974fd4-e118-408d-91d5-1b852bb22d13",
   "metadata": {},
   "outputs": [],
   "source": []
  },
  {
   "cell_type": "code",
   "execution_count": 3,
   "id": "2eda38c9-de23-4a9e-977e-4dae71484d20",
   "metadata": {},
   "outputs": [],
   "source": [
    "# model_test = FFNetwork(num_hidden=20, input_features=4, op_features=op_features, \n",
    "#                           random_initialization=False, lr_decay=True)\n",
    "# model_test.fit_b(\n",
    "#         X=X_train, Y=Y_train, epochs=5, eta=0.01, batch_size=1,\n",
    "#         X_val=X_val, Y_val=Y_val, training_step_limit=training_step_limit,\n",
    "#         book_keep_grads=True, book_keep_hessian=True, \n",
    "#         book_keep_weights=True, book_keep_gen_err=True)"
   ]
  },
  {
   "cell_type": "code",
   "execution_count": 4,
   "id": "c9eedcba-8e3d-4a1e-ac88-5ea56670258b",
   "metadata": {},
   "outputs": [],
   "source": [
    "# model_test.get_accuracy(X_val,Y_val)"
   ]
  },
  {
   "cell_type": "markdown",
   "id": "026b07cf-cc57-4af1-8c06-46fca1a91522",
   "metadata": {},
   "source": []
  },
  {
   "cell_type": "code",
   "execution_count": 5,
   "id": "9753dd4d-be61-4b44-a57a-a0d444fc22e7",
   "metadata": {},
   "outputs": [],
   "source": [
    "def exp_once(X, Y, X_val, Y_val,weights, epochs=1, lr_rate = 1):\n",
    "    \n",
    "    '''\n",
    "    args: X,Y,X_val, Y_val, epochs - standard inputs as the name suggest\n",
    "    About: This function performs 1 experiment, It selects 1 random ith point\n",
    "    creates set S1 and S2 and train models on these, we save the weights of \n",
    "    these models and calculate the norm of difference of weights (at every epoch) and append it to a file.\n",
    "    \n",
    "    About randomness\n",
    "    Both the models use random initialization and for random_initialization = Flase, they set seed(0)\n",
    "    during object creation so since both the models are called with random_initialization = False they\n",
    "    both get initialized with the same weight values\n",
    "    '''\n",
    "    \n",
    "    book_keep_grads=True\n",
    "    book_keep_hessian=True\n",
    "    book_keep_gen_err=True\n",
    "    book_keep_weights = True\n",
    "    use_model2 = False\n",
    "    \n",
    "    order_of_permute = []\n",
    "    # To fix order of permute of both the models\n",
    "    for epoch in range(epochs):\n",
    "        order_of_permute.append(np.arange(X.shape[0]))\n",
    "    \n",
    "    # S1_ind, S2_ind, ith_pos = get_replaced_index(X)\n",
    "    S1_ind, S2_ind, ith_pos = get_replaced_index_same_order(X)\n",
    "    input_features = X.shape[1]\n",
    "    print('ith position  :', ith_pos)\n",
    "    # print('Input_features:',input_features)\n",
    "    \n",
    "    model1 = FFNetwork(num_hidden=weights, input_features=input_features, op_features=op_features, \n",
    "                          random_initialization=False, lr_decay=True)\n",
    "    model1.fit_b(\n",
    "            X=X[S1_ind], Y=Y[S1_ind], epochs=epochs, eta=lr_rate, batch_size=1,\n",
    "            X_val=X_val, Y_val=Y_val, training_step_limit=training_step_limit,\n",
    "            order_of_permute=order_of_permute,book_keep_freq = book_keep_freq,\n",
    "            book_keep_grads=book_keep_grads, book_keep_hessian=book_keep_hessian, \n",
    "            book_keep_weights=book_keep_weights, book_keep_gen_err=book_keep_gen_err)\n",
    "    \n",
    "    if use_model2:\n",
    "        model2 = FFNetwork(num_hidden=weights, input_features=input_features, op_features=op_features, \n",
    "                              random_initialization=False, lr_decay=True)\n",
    "        model2.fit_b(\n",
    "                X=X[S2_ind], Y=Y[S2_ind], epochs=epochs, eta=lr_rate, batch_size=1,\n",
    "                X_val=X_val, Y_val=Y_val, training_step_limit=training_step_limit,\n",
    "                order_of_permute=order_of_permute,book_keep_freq = book_keep_freq,\n",
    "                book_keep_grads=book_keep_grads, book_keep_hessian=book_keep_hessian, \n",
    "                book_keep_weights=book_keep_weights, book_keep_gen_err=book_keep_gen_err)\n",
    "    \n",
    "    gen_err1 = model1.generalization_err\n",
    "    weight1 = model1.w\n",
    "    # l1 = np.array(model1.loss_list)\n",
    "    # lp1 = np.array(model1.point_loss_list)\n",
    "    grads1 = model1.grads_norm\n",
    "    hess_norm1 = model1.hess_norms\n",
    "    \n",
    "    if use_model2:\n",
    "        gen_err2 = model2.generalization_err\n",
    "        weight2 = model2.w\n",
    "        # l2 = np.array(model2.loss_list)\n",
    "        # lp2 = np.array(model2.point_loss_list)\n",
    "        grads2 = model2.grads_norm\n",
    "        hess_norm2 = model2.hess_norms\n",
    "    else:\n",
    "        gen_err2 = []\n",
    "        weight2 = []\n",
    "        l2 = []\n",
    "        lp2 = []\n",
    "        grads2 = []\n",
    "        hess_norm2 = []\n",
    "    \n",
    "    return np.array(gen_err1), np.array(gen_err2), np.array(weight1), np.array(weight2), grads1, grads2, hess_norm1, hess_norm2\n",
    "\n",
    "def exp2_multiple_run(X, Y, X_val, Y_val, weights, times, lr_rate, root_dir='', path=None, epochs = 1, clear_files = True):\n",
    "    delta_t_list = []\n",
    "    gen_err_list = []\n",
    "    loss_diff_list = []\n",
    "    point_loss_diff_list = []\n",
    "    grad_norm_list = []\n",
    "    hess_norm_list = []\n",
    "    gen_err_list = []\n",
    "    if path is not None:\n",
    "        grad_file_path = root_dir+'grad_'+path\n",
    "        hess_file_path = root_dir+'hess_'+path\n",
    "        gen_file_path  = root_dir+'gen_'+path\n",
    "    if clear_files and path is not None:\n",
    "        with open(grad_file_path, 'w+') as f:\n",
    "            f.write('')\n",
    "        with open(hess_file_path, 'w+') as f:\n",
    "            f.write('')\n",
    "        with open(gen_file_path, 'w+') as f:\n",
    "            f.write('')\n",
    "    \n",
    "    for t in range(min(times, exp_times_limit)):\n",
    "        gen_err1, gen_err2, w1, w2, grads1, grads2, hess_norm1, hess_norm2 = exp_once(X,Y, X_val, Y_val,weights, epochs, lr_rate= lr_rate)\n",
    "        \n",
    "        grad_norm_list.append(grads1)\n",
    "        hess_norm_list.append(hess_norm1)\n",
    "        gen_err_list.append(gen_err1)\n",
    "        \n",
    "        if path is not None:\n",
    "            with open(grad_file_path,'a+') as f:\n",
    "                f.write(' '.join([str(grad) for grad in grads1]) + '\\n')\n",
    "            with open(hess_file_path,'a+') as f:\n",
    "                f.write(' '.join([str(grad) for grad in hess_norm1]) + '\\n')\n",
    "            with open(gen_file_path,'a+') as f:\n",
    "                f.write(' '.join([str(grad) for grad in gen_err1]) + '\\n')\n",
    "        \n",
    "    return grad_norm_list, hess_norm_list, gen_err_list"
   ]
  },
  {
   "cell_type": "code",
   "execution_count": 30,
   "id": "d553e898-22d3-4605-88b0-49ddfde2a113",
   "metadata": {
    "collapsed": true,
    "jupyter": {
     "outputs_hidden": true
    },
    "tags": []
   },
   "outputs": [
    {
     "name": "stdout",
     "output_type": "stream",
     "text": [
      "ith position  : 3\n",
      "ith position  : 51\n",
      "ith position  : 55\n",
      "ith position  : 23\n",
      "ith position  : 38\n",
      "ith position  : 55\n",
      "ith position  : 94\n",
      "ith position  : 6\n",
      "ith position  : 72\n",
      "ith position  : 57\n"
     ]
    }
   ],
   "source": [
    "grad_list, hess_list, gen_err_list = exp2_multiple_run(X_train, Y_train, X_val=X_val, Y_val=Y_val, weights=g_weight, times=g_times, lr_rate=alpha_0, root_dir=result_root_dir, path=result_path, epochs=g_epochs)"
   ]
  },
  {
   "cell_type": "code",
   "execution_count": 6,
   "id": "c121688e-8805-4a56-8e61-fad71e359286",
   "metadata": {},
   "outputs": [],
   "source": [
    "def get_lp_sm(grad_list, hess_list):\n",
    "    mean_grads_per_update = np.mean(np.array(grad_list), axis=0)\n",
    "    lp_const = np.max(mean_grads_per_update)\n",
    "    \n",
    "    mean_hess_per_update = np.mean(np.array(hess_list), axis=0)\n",
    "    sm_const = np.max(mean_hess_per_update)\n",
    "    return lp_const, sm_const\n",
    "\n",
    "def our_bound_computatio(K_g, L_g, m, t, alpha_0, way='normal'):\n",
    "    beta = 1\n",
    "    alpha_lg = alpha_0*L_g\n",
    "    print('alpha_0 L_g (<=0.5?):',alpha_lg)\n",
    "    if way == 'normal':\n",
    "        F = np.power(t/m, 2*alpha_lg)\n",
    "        F = F*np.power(2, t/m)\n",
    "        # print('F', F)\n",
    "        beta = (1+alpha_lg)*np.power(K_g,2)/L_g\n",
    "        beta = beta* F/(np.power(m, 1-2*alpha_lg))\n",
    "    est_gen_err = beta + 2*beta*np.sqrt(m)\n",
    "    return est_gen_err"
   ]
  },
  {
   "cell_type": "code",
   "execution_count": 7,
   "id": "1f7efc78-454f-4eea-924c-50b29e959ef1",
   "metadata": {
    "collapsed": true,
    "jupyter": {
     "outputs_hidden": true
    },
    "tags": []
   },
   "outputs": [
    {
     "ename": "NameError",
     "evalue": "name 'grad_list' is not defined",
     "output_type": "error",
     "traceback": [
      "\u001b[0;31m---------------------------------------------------------------------------\u001b[0m",
      "\u001b[0;31mNameError\u001b[0m                                 Traceback (most recent call last)",
      "Input \u001b[0;32mIn [7]\u001b[0m, in \u001b[0;36m<cell line: 1>\u001b[0;34m()\u001b[0m\n\u001b[0;32m----> 1\u001b[0m K_g, L_g \u001b[38;5;241m=\u001b[39m get_lp_sm(\u001b[43mgrad_list\u001b[49m, hess_list)\n\u001b[1;32m      2\u001b[0m \u001b[38;5;28mprint\u001b[39m(\u001b[38;5;124m'\u001b[39m\u001b[38;5;124mLipschitz constant:\u001b[39m\u001b[38;5;124m'\u001b[39m, K_g)\n\u001b[1;32m      3\u001b[0m \u001b[38;5;28mprint\u001b[39m(\u001b[38;5;124m'\u001b[39m\u001b[38;5;124mSmoothness constant:\u001b[39m\u001b[38;5;124m'\u001b[39m, L_g)\n",
      "\u001b[0;31mNameError\u001b[0m: name 'grad_list' is not defined"
     ]
    }
   ],
   "source": [
    "K_g, L_g = get_lp_sm(grad_list, hess_list)\n",
    "print('Lipschitz constant:', K_g)\n",
    "print('Smoothness constant:', L_g)"
   ]
  },
  {
   "cell_type": "code",
   "execution_count": 9,
   "id": "715b8ad8-cca1-4887-aa4c-79a361932115",
   "metadata": {
    "collapsed": true,
    "jupyter": {
     "outputs_hidden": true
    },
    "tags": []
   },
   "outputs": [
    {
     "ename": "NameError",
     "evalue": "name 'K_g' is not defined",
     "output_type": "error",
     "traceback": [
      "\u001b[0;31m---------------------------------------------------------------------------\u001b[0m",
      "\u001b[0;31mNameError\u001b[0m                                 Traceback (most recent call last)",
      "Input \u001b[0;32mIn [9]\u001b[0m, in \u001b[0;36m<cell line: 8>\u001b[0;34m()\u001b[0m\n\u001b[1;32m      6\u001b[0m details[\u001b[38;5;124m'\u001b[39m\u001b[38;5;124mEpochs\u001b[39m\u001b[38;5;124m'\u001b[39m] \u001b[38;5;241m=\u001b[39m g_epochs\n\u001b[1;32m      7\u001b[0m details[\u001b[38;5;124m'\u001b[39m\u001b[38;5;124malpha_0\u001b[39m\u001b[38;5;124m'\u001b[39m] \u001b[38;5;241m=\u001b[39m alpha_0\n\u001b[0;32m----> 8\u001b[0m details[\u001b[38;5;124m'\u001b[39m\u001b[38;5;124mLipschitz constant\u001b[39m\u001b[38;5;124m'\u001b[39m] \u001b[38;5;241m=\u001b[39m \u001b[43mK_g\u001b[49m\n\u001b[1;32m      9\u001b[0m details[\u001b[38;5;124m'\u001b[39m\u001b[38;5;124mSmoothness constant\u001b[39m\u001b[38;5;124m'\u001b[39m] \u001b[38;5;241m=\u001b[39m L_g\n",
      "\u001b[0;31mNameError\u001b[0m: name 'K_g' is not defined"
     ]
    }
   ],
   "source": [
    "### Saving exp details\n",
    "details={}\n",
    "details['Times'] = g_times\n",
    "details['Dataset'] = use_db\n",
    "details['book_keep_freq'] = book_keep_freq\n",
    "details['Weights'] = g_weight\n",
    "details['Epochs'] = g_epochs\n",
    "details['alpha_0'] = alpha_0\n",
    "details['Lipschitz constant'] = K_g\n",
    "details['Smoothness constant'] = L_g\n",
    "\n",
    "# with open(result_root_dir+'details_'+result_path+'.txt', 'w+') as f:\n",
    "#     for key, val in details.items():\n",
    "#         content = key + ' : '+str(val) + '\\n'\n",
    "#         f.write(content)"
   ]
  },
  {
   "cell_type": "code",
   "execution_count": null,
   "id": "f79b69d0-82c7-4ea6-a82f-10cbb9b00b63",
   "metadata": {},
   "outputs": [],
   "source": []
  },
  {
   "cell_type": "code",
   "execution_count": 10,
   "id": "b496af27-2f57-4b8f-8c19-bc3848f775ae",
   "metadata": {
    "collapsed": true,
    "jupyter": {
     "outputs_hidden": true
    },
    "tags": []
   },
   "outputs": [
    {
     "ename": "NameError",
     "evalue": "name 'K_g' is not defined",
     "output_type": "error",
     "traceback": [
      "\u001b[0;31m---------------------------------------------------------------------------\u001b[0m",
      "\u001b[0;31mNameError\u001b[0m                                 Traceback (most recent call last)",
      "Input \u001b[0;32mIn [10]\u001b[0m, in \u001b[0;36m<cell line: 3>\u001b[0;34m()\u001b[0m\n\u001b[1;32m      1\u001b[0m m \u001b[38;5;241m=\u001b[39m np\u001b[38;5;241m.\u001b[39marange(\u001b[38;5;241m1\u001b[39m,X_train\u001b[38;5;241m.\u001b[39mshape[\u001b[38;5;241m0\u001b[39m])\n\u001b[1;32m      2\u001b[0m t \u001b[38;5;241m=\u001b[39m m\n\u001b[0;32m----> 3\u001b[0m val \u001b[38;5;241m=\u001b[39m our_bound_computatio(K_g\u001b[38;5;241m=\u001b[39m\u001b[43mK_g\u001b[49m, L_g\u001b[38;5;241m=\u001b[39mL_g, m\u001b[38;5;241m=\u001b[39mm, t\u001b[38;5;241m=\u001b[39mt, alpha_0\u001b[38;5;241m=\u001b[39malpha_0)\n",
      "\u001b[0;31mNameError\u001b[0m: name 'K_g' is not defined"
     ]
    }
   ],
   "source": [
    "m = np.arange(1,X_train.shape[0])\n",
    "t = m\n",
    "val = our_bound_computatio(K_g=K_g, L_g=L_g, m=m, t=t, alpha_0=alpha_0)"
   ]
  },
  {
   "cell_type": "code",
   "execution_count": 8,
   "id": "4c77ba0e-9ceb-4f63-b469-a60f6c41a3c4",
   "metadata": {
    "tags": []
   },
   "outputs": [],
   "source": [
    "def plot_bound_gen_err(bound, gen_error, path=None, ylimits = None):\n",
    "    fig, ax = plt.subplots(figsize=(8,6))\n",
    "    ax.set_yscale('log')\n",
    "    if ylimits is not None:\n",
    "        ax.set_ylim(ylimits[0],ylimits[1])\n",
    "    ax.grid()\n",
    "    ax.plot(bound, label= 'our_bound')\n",
    "    ax.plot(np.abs(np.mean(gen_error, axis=0)), label='gen_err')\n",
    "    ax.set_xlabel('Number of Updates')\n",
    "    ax.set_ylabel('Generalization errors')\n",
    "    ax.legend()\n",
    "    if path is not None:\n",
    "        plt.savefig(path)"
   ]
  },
  {
   "cell_type": "code",
   "execution_count": 26,
   "id": "7db5d733-e6b5-4507-aa3a-35c83fe61837",
   "metadata": {},
   "outputs": [
    {
     "data": {
      "image/png": "[encoded data removed]",
      "text/plain": [
       "<Figure size 576x432 with 1 Axes>"
      ]
     },
     "metadata": {
      "needs_background": "light"
     },
     "output_type": "display_data"
    }
   ],
   "source": [
    "plot_bound_gen_err(val, gen_err_list)"
   ]
  },
  {
   "cell_type": "code",
   "execution_count": 9,
   "id": "7bc6c296-a997-4a41-8514-e66120779495",
   "metadata": {},
   "outputs": [],
   "source": [
    "def get_exp_details(root_dir, path):\n",
    "    result_details={}\n",
    "    details_path = root_dir+ 'details_'+ path + '.txt'\n",
    "    with open(details_path, 'r') as f:\n",
    "        lines = f.readlines()\n",
    "    for line in lines:\n",
    "        key, val = line[:-1].split(':')\n",
    "        key, val = key.strip(' '), val.strip(' ')\n",
    "        if key not in ['Times', 'Weights', 'Epochs', 'Dataset', 'book_keep_freq']:\n",
    "            val = float(val)\n",
    "        if key in ['Times', 'Weights', 'Epochs', 'book_keep_freq']:\n",
    "            val = int(val)\n",
    "        result_details[key] = val\n",
    "    return result_details\n",
    "def get_exp_results(root_dir, path, result_details):\n",
    "    grad_file_path = root_dir+'grad_'+path\n",
    "    hess_file_path = root_dir+'hess_'+path\n",
    "    gen_file_path  = root_dir+'gen_'+path\n",
    "    \n",
    "    # print(result_details)\n",
    "    grad_list    = []\n",
    "    hess_list    = []\n",
    "    gen_err_list = []\n",
    "    \n",
    "    with open(grad_file_path, 'r') as f:\n",
    "        lines = f.readlines()\n",
    "    for line in lines:\n",
    "        grad_list.append([float(l) for l in line[:-1].split(' ')])\n",
    "    \n",
    "    with open(hess_file_path, 'r') as f:\n",
    "        lines = f.readlines()\n",
    "    for line in lines:\n",
    "        hess_list.append([float(l) for l in line[:-1].split(' ')])\n",
    "        \n",
    "    with open(gen_file_path, 'r') as f:\n",
    "        lines = f.readlines()\n",
    "    for line in lines:\n",
    "        gen_err_list.append([float(l) for l in line[:-1].split(' ')])\n",
    "    \n",
    "    K_g = result_details['Lipschitz constant']\n",
    "    L_g = result_details['Smoothness constant']\n",
    "    alpha_0 = result_details['alpha_0']\n",
    "    book_keep_freq = result_details['book_keep_freq']\n",
    "    m = book_keep_freq*np.arange(1,len(gen_err_list[0]))\n",
    "    t = m\n",
    "    bound = our_bound_computatio(K_g=K_g, L_g=L_g, m=m, t=t, alpha_0=alpha_0)\n",
    "    \n",
    "    return grad_list, hess_list, gen_err_list, bound"
   ]
  },
  {
   "cell_type": "code",
   "execution_count": 10,
   "id": "90dbd039-896d-4ac4-925c-3f12f36247b7",
   "metadata": {},
   "outputs": [
    {
     "data": {
      "text/plain": [
       "{'Times': 1,\n",
       " 'Dataset': 'mnist',\n",
       " 'book_keep_freq': 100,\n",
       " 'Weights': 10,\n",
       " 'Epochs': 1,\n",
       " 'alpha_0': 0.03,\n",
       " 'Lipschitz constant': 0.9540034852038188,\n",
       " 'Smoothness constant': 14.134640963421894}"
      ]
     },
     "execution_count": 10,
     "metadata": {},
     "output_type": "execute_result"
    }
   ],
   "source": [
    "result_details = get_exp_details('results/t4/', 'try2_mnist')\n",
    "result_details"
   ]
  },
  {
   "cell_type": "code",
   "execution_count": 12,
   "id": "76a5ac1e-71d3-4d9e-90ae-7b76593bed50",
   "metadata": {},
   "outputs": [],
   "source": [
    "def get_our_bound1(K_g, L_g, m, t, alpha_0, way='normal'):\n",
    "    beta = 1\n",
    "    F = 1\n",
    "    alpha_lg = alpha_0*L_g\n",
    "    print('alpha_0 L_g (<=0.5?):',alpha_lg)\n",
    "    if way == 'normal':\n",
    "        F = np.power(t/m, 2*alpha_lg)\n",
    "        F = F*np.power(2, t/m)\n",
    "        # print('F', F)\n",
    "    beta = (1+alpha_lg)*np.power(K_g,2)/L_g\n",
    "    beta = beta* F/(np.power(m, 1-2*alpha_lg))\n",
    "    est_gen_err = beta + 2*beta*np.sqrt(m)\n",
    "    return est_gen_err\n",
    "\n",
    "# m = np.arange(1,50000)\n",
    "# t = m\n",
    "# plt.plot(get_our_bound1(2.7, 0.2, m, t, 0.01, 'single_epoch'))\n",
    "# plt.yscale('log')\n",
    "# plt.ylim(0.001, 10)"
   ]
  },
  {
   "cell_type": "code",
   "execution_count": 13,
   "id": "84f2c0cf-8d87-4c9d-8ccf-503bd995fa31",
   "metadata": {
    "tags": []
   },
   "outputs": [
    {
     "name": "stdout",
     "output_type": "stream",
     "text": [
      "alpha_0 L_g (<=0.5?): 0.42403922890265683\n"
     ]
    }
   ],
   "source": [
    "grad_list, hess_list, gen_err_list, our_bound = get_exp_results('results/t4/', 'try2_mnist', result_details=result_details)"
   ]
  },
  {
   "cell_type": "code",
   "execution_count": 20,
   "id": "82babda2-0833-4934-9f40-26b085668bbf",
   "metadata": {},
   "outputs": [
    {
     "data": {
      "text/plain": [
       "[<matplotlib.lines.Line2D at 0x7f036b6e1a60>]"
      ]
     },
     "execution_count": 20,
     "metadata": {},
     "output_type": "execute_result"
    },
    {
     "data": {
      "image/png": "[encoded data removed]",
      "text/plain": [
       "<Figure size 432x288 with 1 Axes>"
      ]
     },
     "metadata": {
      "needs_background": "light"
     },
     "output_type": "display_data"
    }
   ],
   "source": [
    "plt.plot(gen_err_list[0])"
   ]
  },
  {
   "cell_type": "code",
   "execution_count": 15,
   "id": "e2eaa183-f805-431b-885e-a48495a3088b",
   "metadata": {},
   "outputs": [
    {
     "data": {
      "image/png": "[encoded data removed]",
      "text/plain": [
       "<Figure size 576x432 with 1 Axes>"
      ]
     },
     "metadata": {
      "needs_background": "light"
     },
     "output_type": "display_data"
    }
   ],
   "source": [
    "# plot_bound_gen_err(our_bound, gen_err_list, path='results/t3/plot_try1.png')\n",
    "plot_bound_gen_err(our_bound, gen_err_list, path=None, ylimits = None)"
   ]
  },
  {
   "cell_type": "code",
   "execution_count": 55,
   "id": "311323cb-7363-4614-8312-63ee40ea92d1",
   "metadata": {},
   "outputs": [],
   "source": [
    "# X_train.shape"
   ]
  },
  {
   "cell_type": "code",
   "execution_count": 51,
   "id": "161c063a-66f9-4f21-9bfe-1ea59727b5a3",
   "metadata": {},
   "outputs": [],
   "source": [
    "# model_temp = FFNetwork(num_hidden=10, input_features=4, op_features=3, random_initialization=True, lr_decay=True)\n",
    "# model_temp.fit_b(\n",
    "#             X=X_train[:], Y=Y_train[:], epochs=10, eta=0.01, batch_size=1,\n",
    "#             X_val=X_val, Y_val=Y_val, training_step_limit=1000,\n",
    "#             order_of_permute=None,\n",
    "#             book_keep_grads=False, book_keep_hessian=False, \n",
    "#             book_keep_weights=False, book_keep_gen_err=True, l2_norm=False)"
   ]
  },
  {
   "cell_type": "code",
   "execution_count": 52,
   "id": "61932577-2355-4cec-a55c-4c24b0e192ac",
   "metadata": {},
   "outputs": [],
   "source": [
    "# model_temp.get_loss(X_val, Y_val)"
   ]
  },
  {
   "cell_type": "code",
   "execution_count": 53,
   "id": "af7f0548-238f-43c6-973b-99ceb5453285",
   "metadata": {},
   "outputs": [],
   "source": [
    "# plt.plot(model_temp.generalization_err)"
   ]
  },
  {
   "cell_type": "code",
   "execution_count": null,
   "id": "48aaf85c-ad22-4d61-a686-32ecc879918d",
   "metadata": {},
   "outputs": [],
   "source": []
  },
  {
   "cell_type": "code",
   "execution_count": 54,
   "id": "13107a57-95fb-4dc0-b296-332ef19f619f",
   "metadata": {},
   "outputs": [],
   "source": [
    "# m = np.arange(1,20000)\n",
    "# t = m\n",
    "# val = our_bound_computatio(K_g=2, L_g=0.2, m=m, t=t, alpha_0=0.01)\n",
    "# plt.plot(val)\n",
    "# plt.yscale('log')\n",
    "# plt.ylim(0.01, 10)"
   ]
  },
  {
   "cell_type": "markdown",
   "id": "440685ec-7ff4-42da-8d39-16aa7d60fe93",
   "metadata": {
    "jp-MarkdownHeadingCollapsed": true,
    "tags": []
   },
   "source": [
    "# Checking with operator norm\n",
    "### Not much difference, just slight decrease in value, especially the mean value for each epoch as visible in the figure"
   ]
  },
  {
   "cell_type": "code",
   "execution_count": 8,
   "id": "b4bc3ba3-fd16-41bb-a36c-0828067ad001",
   "metadata": {
    "tags": []
   },
   "outputs": [
    {
     "name": "stdout",
     "output_type": "stream",
     "text": [
      "ith position  : 93\n",
      "ith position  : 71\n",
      "ith position  : 89\n",
      "ith position  : 14\n",
      "ith position  : 60\n",
      "ith position  : 64\n",
      "ith position  : 21\n",
      "ith position  : 97\n",
      "ith position  : 87\n",
      "ith position  : 17\n"
     ]
    }
   ],
   "source": [
    "grad_list, hess_list, gen_err_list = exp2_multiple_run(X_train, Y_train, X_val=X_val, Y_val=Y_val, weights=20, times=10, lr_rate=alpha_0, path=None, epochs=g_epochs)"
   ]
  },
  {
   "cell_type": "code",
   "execution_count": 41,
   "id": "34ff1096-4ec1-48de-bee5-0b61976c42fd",
   "metadata": {
    "tags": []
   },
   "outputs": [],
   "source": [
    "def plot_data(ip_list, path = None, y_label='norm'):\n",
    "    fig, ax = plt.subplots(figsize=(7, 4))\n",
    "    ip_list = np.asarray(ip_list)\n",
    "    ip_mean = np.mean(ip_list, axis=0)\n",
    "    ip_std = np.std(ip_list, axis=0)\n",
    "    ip_min = np.min(ip_list, axis=0)\n",
    "    ip_max = np.max(ip_list, axis=0)\n",
    "    ip_90p = np.percentile(ip_list, 90, axis=0)\n",
    "    #ax.errorbar(range(len(grads_mean[:10])), grads_mean[:10],yerr= grads_std[:10], fmt='o')\n",
    "    ax.plot(ip_max, color ='black', label= 'max')\n",
    "    # ax.plot(ip_90p, 'r-', label='90th')\n",
    "    ax.set_ylabel(y_label)\n",
    "    ax.set_xlabel(\"No. of Update to weights\")\n",
    "    ax.plot(ip_mean, 'y-', label= 'mean')\n",
    "    # ax.plot(ip_min, 'c-', label='min')\n",
    "    ax.legend()\n",
    "    if path is not None:\n",
    "        fig.savefig(path)"
   ]
  },
  {
   "cell_type": "code",
   "execution_count": 11,
   "id": "f1cd3c01-0dfb-4d53-b456-92e22c4f6e8a",
   "metadata": {
    "collapsed": true,
    "jupyter": {
     "outputs_hidden": true
    },
    "tags": []
   },
   "outputs": [
    {
     "data": {
      "image/png": "[encoded data removed]",
      "text/plain": [
       "<Figure size 504x288 with 1 Axes>"
      ]
     },
     "metadata": {
      "needs_background": "light"
     },
     "output_type": "display_data"
    }
   ],
   "source": [
    "plot_data(hess_list)"
   ]
  },
  {
   "cell_type": "code",
   "execution_count": 87,
   "id": "221c8e4c-15c8-4253-8338-45c0b2b25778",
   "metadata": {
    "tags": []
   },
   "outputs": [],
   "source": [
    "# plot_data(grad_list)"
   ]
  },
  {
   "cell_type": "code",
   "execution_count": 88,
   "id": "40f71bd7-7885-46d4-b7db-687065c7f796",
   "metadata": {
    "tags": []
   },
   "outputs": [],
   "source": [
    "# plot_data(hess_list)"
   ]
  },
  {
   "cell_type": "code",
   "execution_count": 89,
   "id": "14cdfaf5-4ec2-463c-9365-c386e74533e7",
   "metadata": {
    "tags": []
   },
   "outputs": [],
   "source": [
    "# plot_data(gen_err_list, y_label='gen error')"
   ]
  },
  {
   "cell_type": "code",
   "execution_count": 1,
   "id": "218115b4-869f-4726-83b7-af586e1515fd",
   "metadata": {},
   "outputs": [],
   "source": [
    "\n",
    "li = []\n",
    "count = 0\n",
    "freq = 20\n",
    "for i in range(20000):\n",
    "    if i%freq==0:\n",
    "        count+=1\n",
    "        li.append(i)\n",
    "        if count%100==0:\n",
    "            freq += 20"
   ]
  },
  {
   "cell_type": "code",
   "execution_count": 5,
   "id": "fae6bc77-7b4e-47bd-9e6e-6e111a845abe",
   "metadata": {},
   "outputs": [
    {
     "data": {
      "text/plain": [
       "[<matplotlib.lines.Line2D at 0x7f5abdec0af0>]"
      ]
     },
     "execution_count": 5,
     "metadata": {},
     "output_type": "execute_result"
    },
    {
     "data": {
      "image/png": "[encoded data removed]",
      "text/plain": [
       "<Figure size 432x288 with 1 Axes>"
      ]
     },
     "metadata": {
      "needs_background": "light"
     },
     "output_type": "display_data"
    }
   ],
   "source": [
    "import matplotlib.pyplot as plt\n",
    "plt.plot(li, range(400))"
   ]
  },
  {
   "cell_type": "code",
   "execution_count": null,
   "id": "49924442-a2da-46e8-8f58-495eb49bdcd4",
   "metadata": {},
   "outputs": [],
   "source": []
  }
 ],
 "metadata": {
  "kernelspec": {
   "display_name": "Python 3 (ipykernel)",
   "language": "python",
   "name": "python3"
  },
  "language_info": {
   "codemirror_mode": {
    "name": "ipython",
    "version": 3
   },
   "file_extension": ".py",
   "mimetype": "text/x-python",
   "name": "python",
   "nbconvert_exporter": "python",
   "pygments_lexer": "ipython3",
   "version": "3.9.12"
  }
 },
 "nbformat": 4,
 "nbformat_minor": 5
}
